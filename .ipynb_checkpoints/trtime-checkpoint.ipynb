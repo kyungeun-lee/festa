{
 "cells": [
  {
   "cell_type": "code",
   "execution_count": 1,
   "id": "16b7d306",
   "metadata": {},
   "outputs": [],
   "source": [
    "import pandas as pd\n",
    "import numpy as np\n",
    "import matplotlib.pyplot as plt\n",
    "import os"
   ]
  },
  {
   "cell_type": "code",
   "execution_count": 2,
   "id": "455b4600",
   "metadata": {},
   "outputs": [],
   "source": [
    "datalist = [\n",
    "    22, 54, 1063, 1067, 12, 18, 23, 59, 188, 307, 1043, 1459, 1475, 1489, 1492, 1497, 1503, 4153, 40499, 44125,\n",
    "    44131, 45062, 44157, 1462, 44160, 29, 37, 53, 49, 1504, 1494, 41143, 44126, 40981, 41168, 44091, 44158, 44123, 44090,\n",
    "    40922, 44161, 45714]"
   ]
  },
  {
   "cell_type": "code",
   "execution_count": 28,
   "id": "f10aae8b",
   "metadata": {},
   "outputs": [
    {
     "name": "stdout",
     "output_type": "stream",
     "text": [
      "\n",
      "====== 1 ======\n",
      "22 54 1063 1067 12 18 23 59 188 307 1043 1459 1475 1489 1492 1497 1503 4153 40499 44125 44131 45062 44157 1462 44160 29 37 53 49 1504 1494 41143 44126 40981 41168 44091 44158 44123 44090 40922 44161 45714 \n",
      "====== 5 ======\n",
      "22 54 1063 1067 12 18 23 59 188 307 1043 1459 1475 1489 1492 1497 1503 4153 40499 44125 44131 45062 44157 1462 44160 29 37 53 49 1504 1494 41143 44126 40981 41168 44091 44158 44123 44090 40922 44161 45714 "
     ]
    }
   ],
   "source": [
    "# excl = [12, 307, 1492, 40499, 41143, 41168, 45714, 40981, 53]\n",
    "excl = []\n",
    "\n",
    "for model in [\"stunt\"]:\n",
    "    for shot in [1, 5]:\n",
    "        print(\"\")\n",
    "        print(\"======\", shot, \"======\")\n",
    "        t = []\n",
    "        epochs = []\n",
    "        for d in datalist:\n",
    "            if d not in excl:\n",
    "                fname = f'results/time/shot={shot}..model={model}..data={d}.npy'\n",
    "                try:\n",
    "                    a, b = np.load(fname)\n",
    "                    t.append(a)\n",
    "                    epochs.append(b)\n",
    "                except TypeError:\n",
    "                    print(d, end=\" \")\n",
    "\n",
    "        if len(t) == len(datalist):\n",
    "            print(model)\n",
    "            print(f'{np.mean(t):.3f}$\\pm${np.std(t):.3f}')\n",
    "            print(f'{np.mean(epochs):.3f}$\\pm${np.std(epochs):.3f}')\n",
    "            print(f'{np.mean(t)/np.mean(epochs):.3f}')"
   ]
  },
  {
   "cell_type": "code",
   "execution_count": 8,
   "id": "f84e1647",
   "metadata": {},
   "outputs": [
    {
     "data": {
      "text/plain": [
       "()"
      ]
     },
     "execution_count": 8,
     "metadata": {},
     "output_type": "execute_result"
    }
   ],
   "source": [
    "ttt.shape"
   ]
  },
  {
   "cell_type": "code",
   "execution_count": 13,
   "id": "926667de",
   "metadata": {},
   "outputs": [
    {
     "data": {
      "text/plain": [
       "1.5963079564968516"
      ]
     },
     "execution_count": 13,
     "metadata": {},
     "output_type": "execute_result"
    }
   ],
   "source": [
    "22.310 / 13.976"
   ]
  },
  {
   "cell_type": "code",
   "execution_count": null,
   "id": "2778aceb",
   "metadata": {},
   "outputs": [],
   "source": []
  }
 ],
 "metadata": {
  "kernelspec": {
   "display_name": "Python 3 (ipykernel)",
   "language": "python",
   "name": "python3"
  },
  "language_info": {
   "codemirror_mode": {
    "name": "ipython",
    "version": 3
   },
   "file_extension": ".py",
   "mimetype": "text/x-python",
   "name": "python",
   "nbconvert_exporter": "python",
   "pygments_lexer": "ipython3",
   "version": "3.8.13"
  }
 },
 "nbformat": 4,
 "nbformat_minor": 5
}
